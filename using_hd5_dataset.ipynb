{
 "cells": [
  {
   "cell_type": "markdown",
   "metadata": {},
   "source": [
    "# Demonstration of QCA HDF5 Singlepoint Dataset"
   ]
  },
  {
   "cell_type": "code",
   "execution_count": 1,
   "metadata": {},
   "outputs": [],
   "source": [
    "import h5py as h5\n",
    "import json\n",
    "import matplotlib.pyplot as plt"
   ]
  },
  {
   "cell_type": "code",
   "execution_count": 2,
   "metadata": {},
   "outputs": [
    {
     "name": "stdout",
     "output_type": "stream",
     "text": [
      "\u001b[94mdataset_329/dataset_329_master.h5\u001b[0m (5 attributes)\n",
      "├\u001b[94mentries\u001b[0m\t(12000 children)\n",
      "└\u001b[94mspecifications\u001b[0m\t(4 children)\n",
      "\n"
     ]
    }
   ],
   "source": [
    "# use command line tool h5glance to get a quick overview of the HDF5 file structure\n",
    "# The h5 file is divided into entries and specifications\n",
    "! h5glance dataset_329/dataset_329_master.h5 -d 1"
   ]
  },
  {
   "cell_type": "code",
   "execution_count": 3,
   "metadata": {},
   "outputs": [
    {
     "name": "stdout",
     "output_type": "stream",
     "text": [
      "\u001b[94mdataset_329/dataset_329_master.h5/specifications\u001b[0m\n",
      "├\u001b[94mspec_1\u001b[0m (10 attributes)\n",
      "│ ├\u001b[1mentry_references\u001b[0m\t[UTF-8 string: 12000] virtual\n",
      "│ └\u001b[94mproperties\u001b[0m\t(10 children)\n",
      "├\u001b[94mspec_2\u001b[0m (10 attributes)\n",
      "│ ├\u001b[1mentry_references\u001b[0m\t[UTF-8 string: 0] virtual\n",
      "│ └\u001b[94mproperties\u001b[0m\t(0 children)\n",
      "├\u001b[94mspec_3\u001b[0m (10 attributes)\n",
      "│ ├\u001b[1mentry_references\u001b[0m\t[UTF-8 string: 12000] virtual\n",
      "│ └\u001b[94mproperties\u001b[0m\t(62 children)\n",
      "└\u001b[94mspec_4\u001b[0m (10 attributes)\n",
      "  ├\u001b[1mentry_references\u001b[0m\t[UTF-8 string: 0] virtual\n",
      "  └\u001b[94mproperties\u001b[0m\t(0 children)\n",
      "\n"
     ]
    }
   ],
   "source": [
    "# The specifications contain references to the entries \n",
    "# and aggregated properties of the dataset.\n",
    "! h5glance dataset_329/dataset_329_master.h5 specifications -d 2"
   ]
  },
  {
   "cell_type": "code",
   "execution_count": 4,
   "metadata": {},
   "outputs": [
    {
     "name": "stdout",
     "output_type": "stream",
     "text": [
      "Overall attributes:\n",
      "description: Data source: https://github.com/PfizerRD/TorsionNet/blob/main/data/\n",
      "element_composition: {\"C\": 120744, \"N\": 25512, \"H\": 127968, \"O\": 10752, \"S\": 1512, \"F\": 1440, \"Cl\": 504}\n",
      "metadata: {\"elements\": [\"N\", \"Cl\", \"S\", \"C\", \"F\", \"H\", \"O\"], \"submitter\": \"Pavan Behara, Josh Horton, David Dotson\", \"dataset_name\": \"TorsionNet500 Single Points Dataset v1.0\", \"creation_date\": \"2021-11-11\", \"collection_type\": \"DataSet\", \"long_description\": \"Data source: https://github.com/PfizerRD/TorsionNet/blob/main/data/\", \"short_description\": \"TorsionNet500 geometries with openff default spec\", \"long_description_url\": \"https://github.com/openforcefield/qca-dataset-submission/tree/master/submissions/2021-11-09-TorsionNet500-single-points\"}\n",
      "name: TorsionNet500 Single Points Dataset v1.0\n",
      "version: 0.1\n"
     ]
    }
   ],
   "source": [
    "dataset_name = \"dataset_329\"\n",
    "filepath = f\"{dataset_name}/{dataset_name}_master.h5\"\n",
    "\n",
    "with h5.File(filepath, \"r\") as dataset:\n",
    "    # Get the overall attributes\n",
    "    print(\"Overall attributes:\")\n",
    "    for key in dataset.attrs.keys():\n",
    "        print(f\"{key}: {dataset.attrs[key]}\")\n",
    "    element_counts = json.loads(dataset.attrs.get(\"element_composition\", None))\n"
   ]
  },
  {
   "cell_type": "code",
   "execution_count": 5,
   "metadata": {},
   "outputs": [
    {
     "data": {
      "image/png": "[encoded data removed]",
      "text/plain": [
       "<Figure size 800x500 with 1 Axes>"
      ]
     },
     "metadata": {},
     "output_type": "display_data"
    }
   ],
   "source": [
    "# Can make a plot of the elemental composition\n",
    "# this was calculated during file creation and stored as metadata in the HDF5 file\n",
    "elements = list(element_counts.keys())\n",
    "counts = list(element_counts.values())\n",
    "\n",
    "# Create the bar chart\n",
    "plt.figure(figsize=(8, 5))\n",
    "plt.bar(elements, counts)\n",
    "plt.xlabel('Element')\n",
    "plt.ylabel('Count')\n",
    "plt.tight_layout()\n",
    "plt.show()"
   ]
  },
  {
   "cell_type": "code",
   "execution_count": 6,
   "metadata": {},
   "outputs": [
    {
     "data": {
      "text/plain": [
       "'dataset_329/dataset_329_master.h5'"
      ]
     },
     "execution_count": 6,
     "metadata": {},
     "output_type": "execute_result"
    }
   ],
   "source": [
    "filepath"
   ]
  },
  {
   "cell_type": "code",
   "execution_count": 7,
   "metadata": {},
   "outputs": [
    {
     "name": "stdout",
     "output_type": "stream",
     "text": [
      "\n",
      "Selected specification: spec_1\n",
      "\n",
      "Contents inside specifications/spec_1/properties:\n",
      "2-body dispersion correction energy\n",
      "2-body dispersion correction gradient\n",
      "b3lyp-d3(bj) dispersion correction energy\n",
      "b3lyp-d3(bj) dispersion correction gradient\n",
      "current energy\n",
      "current gradient\n",
      "dispersion correction energy\n",
      "dispersion correction gradient\n",
      "return_energy\n",
      "return_result\n"
     ]
    }
   ],
   "source": [
    "# Let's look at the properties for a specification\n",
    "\n",
    "with h5.File(filepath, \"r\") as dataset:\n",
    "    # Get the specifications group\n",
    "    specifications_group = dataset[\"specifications\"]\n",
    "\n",
    "    example_spec = list(specifications_group.keys())[0] \n",
    "\n",
    "    print(f\"\\nSelected specification: {example_spec}\")\n",
    "\n",
    "    # List all items inside the example_spec group\n",
    "    print(f\"\\nContents inside specifications/{example_spec}/properties:\")\n",
    "    for name in specifications_group[example_spec][\"properties\"]:\n",
    "        print(name)\n",
    "\n",
    "    # Get return_energy\n",
    "    return_energy = specifications_group[example_spec][\"properties\"][\"return_result\"][:]\n"
   ]
  },
  {
   "cell_type": "code",
   "execution_count": 8,
   "metadata": {},
   "outputs": [
    {
     "data": {
      "text/plain": [
       "array([array([], dtype=float64), array([], dtype=float64),\n",
       "       array([], dtype=float64), ..., array([], dtype=float64),\n",
       "       array([], dtype=float64), array([], dtype=float64)], dtype=object)"
      ]
     },
     "execution_count": 8,
     "metadata": {},
     "output_type": "execute_result"
    }
   ],
   "source": [
    "return_energy"
   ]
  },
  {
   "cell_type": "code",
   "execution_count": 9,
   "metadata": {},
   "outputs": [
    {
     "name": "stdout",
     "output_type": "stream",
     "text": [
      "spec_1\n"
     ]
    }
   ],
   "source": [
    "print(example_spec)"
   ]
  },
  {
   "cell_type": "code",
   "execution_count": 10,
   "metadata": {},
   "outputs": [
    {
     "name": "stdout",
     "output_type": "stream",
     "text": [
      "\n",
      "Contents inside specifications/specification/properties:\n",
      "2-body dispersion correction energy\n",
      "2-body dispersion correction gradient\n",
      "b3lyp-d3(bj) dispersion correction energy\n",
      "b3lyp-d3(bj) dispersion correction gradient\n",
      "current energy\n",
      "current gradient\n",
      "dispersion correction energy\n",
      "dispersion correction gradient\n",
      "return_energy\n",
      "return_result\n"
     ]
    }
   ],
   "source": [
    "# Let's look at the properties for a specification\n",
    "spec_filepath = f\"{dataset_name}/{example_spec}.h5\"\n",
    "with h5.File(spec_filepath, \"r\") as dataset:\n",
    "    # Get the specifications group\n",
    "    specifications_group = dataset\n",
    "\n",
    "    example_spec = list(specifications_group.keys())[0] \n",
    "\n",
    "    # List all items inside the example_spec group\n",
    "    print(f\"\\nContents inside specifications/{example_spec}/properties:\")\n",
    "    for name in specifications_group[example_spec][\"aggregated_properties\"]:\n",
    "        print(name)\n",
    "\n",
    "    # Get return_energy\n",
    "    return_energy = specifications_group[example_spec][\"aggregated_properties\"][\"return_result\"][:]\n"
   ]
  },
  {
   "cell_type": "code",
   "execution_count": 11,
   "metadata": {},
   "outputs": [
    {
     "data": {
      "text/plain": [
       "array([array([-1.11310113e-03, -1.66926533e-04, -1.43593322e-05,  1.36425566e-04,\n",
       "              -2.97697011e-04,  2.15759635e-05,  1.81826582e-03,  2.33832071e-03,\n",
       "               1.52657713e-04,  1.93215831e-04,  7.94919075e-04,  1.34317504e-04,\n",
       "              -3.89455579e-04,  1.52526157e-04, -1.70040053e-04, -8.13917468e-05,\n",
       "              -3.70999753e-04,  9.80214090e-05,  9.68908930e-05, -2.33870806e-04,\n",
       "               4.90704445e-05,  4.56996258e-04,  4.58069402e-04,  8.88186155e-05,\n",
       "              -3.46301030e-04, -1.35359280e-04,  4.46664649e-05,  2.46903173e-04,\n",
       "              -1.48581599e-04, -9.66326516e-05,  2.41317420e-04,  2.19154215e-04,\n",
       "              -7.77355309e-05, -2.58717766e-04, -2.52128799e-05, -2.36550481e-06,\n",
       "               2.32473838e-04, -2.70201875e-04,  7.12215130e-05, -7.68636459e-04,\n",
       "              -2.45581906e-03, -3.22558223e-04, -2.67906319e-04, -1.42899027e-05,\n",
       "               3.19972511e-07, -1.02425429e-04, -2.29033888e-04,  7.83893499e-05,\n",
       "              -1.41230837e-04,  2.09021118e-04, -8.41350351e-05,  4.66774993e-05,\n",
       "               1.75981905e-04,  2.87673805e-05])                                 ,\n",
       "       array([-1.09442404e-03, -1.47673357e-04, -1.56515287e-05,  1.56778379e-04,\n",
       "              -3.14585647e-04,  4.02071878e-05,  1.70401945e-03,  2.37619631e-03,\n",
       "               2.04726196e-04,  2.25887992e-04,  7.78167618e-04,  2.39384953e-04,\n",
       "              -3.99175044e-04,  1.29301088e-04, -2.07193667e-04, -8.81212723e-05,\n",
       "              -3.77123101e-04,  1.16982086e-04,  1.02107654e-04, -2.46798441e-04,\n",
       "               7.23264466e-05,  4.59723659e-04,  4.57971771e-04,  1.40023360e-04,\n",
       "              -3.34245695e-04, -1.73936210e-04,  9.88129684e-05,  2.36447995e-04,\n",
       "              -1.18446307e-04, -1.67685570e-04,  2.58815316e-04,  2.15755726e-04,\n",
       "              -9.54070053e-05, -2.59498903e-04, -2.42416801e-05, -4.81287855e-06,\n",
       "               2.29504088e-04, -2.71589356e-04,  8.51113930e-05, -7.32437343e-04,\n",
       "              -2.42504643e-03, -5.47013918e-04, -2.68111213e-04, -1.20262264e-05,\n",
       "              -1.07266060e-06, -1.04888064e-04, -2.22179901e-04,  9.28537957e-05,\n",
       "              -1.38717151e-04,  2.04215061e-04, -1.00918001e-04,  4.63341935e-05,\n",
       "               1.72039080e-04,  4.93268424e-05])                                 ,\n",
       "       array([-1.02354545e-03, -2.34531385e-04,  1.60557646e-05,  2.43044429e-04,\n",
       "              -3.78912286e-04,  2.33456611e-05,  2.27554981e-03,  1.97946692e-03,\n",
       "               2.07439527e-05,  1.06228615e-03,  3.60453079e-04,  7.41470434e-05,\n",
       "              -3.76304107e-04,  1.37155502e-04, -5.16292742e-05, -8.66184843e-05,\n",
       "              -4.08318961e-04,  5.02239721e-05,  1.45333709e-04, -2.30939500e-04,\n",
       "               2.82753894e-05,  3.92393722e-04,  1.22598094e-04,  2.61122852e-05,\n",
       "               1.17530659e-05, -3.92423616e-04,  5.60916435e-05, -5.08681456e-06,\n",
       "               3.34780950e-04, -8.15890416e-05,  2.45716701e-04,  2.06086417e-04,\n",
       "              -3.14450629e-05, -2.76571754e-04, -3.08695208e-05,  4.60613225e-07,\n",
       "               6.27827316e-05, -2.99402222e-04,  4.12690337e-05, -2.28956834e-03,\n",
       "              -1.19592143e-03, -1.87427446e-04, -2.69284125e-04, -9.56724450e-06,\n",
       "              -1.09912833e-06, -1.05641770e-04, -2.38313389e-04,  3.53738864e-05,\n",
       "              -1.74567369e-04,  2.17430887e-04, -3.64344178e-05,  1.68327889e-04,\n",
       "               6.12277008e-05,  1.75251254e-05])                                 ,\n",
       "       ...,\n",
       "       array([ 3.24699045e-04, -2.10086570e-03,  2.05618541e-04, -1.37444334e-04,\n",
       "              -6.70623798e-04,  4.70284698e-05,  2.43539118e-04,  1.19503600e-04,\n",
       "              -7.67759299e-06,  2.47332920e-04,  3.34317221e-04, -2.84633613e-04,\n",
       "               1.34122430e-03, -6.40150872e-05,  1.48257952e-05, -6.46804925e-04,\n",
       "               4.01372051e-04,  3.21349547e-05, -2.36506443e-03,  7.00661925e-04,\n",
       "              -1.46483576e-04,  3.14765993e-04,  1.82492812e-04,  2.38021437e-04,\n",
       "               1.21973089e-04,  3.29742660e-04, -2.35484226e-04, -9.28633370e-06,\n",
       "               1.87481278e-04, -3.69952213e-04,  4.41077607e-04, -8.87536747e-05,\n",
       "               2.28113500e-05, -4.81979318e-04,  1.35109392e-05, -2.02837908e-06,\n",
       "              -1.35939252e-04, -6.03193081e-06, -9.90521768e-09,  1.29390829e-04,\n",
       "               2.94592326e-04, -4.63160444e-05,  3.14403688e-04,  1.67695785e-04,\n",
       "               2.25078867e-04,  2.19896419e-04,  2.54818736e-04, -5.23046939e-06,\n",
       "              -2.66423421e-04, -6.15841785e-05,  3.14603379e-06,  1.10559172e-04,\n",
       "              -3.35592018e-04, -2.44657363e-05,  1.93666300e-04, -2.91217460e-05,\n",
       "               3.37473762e-04,  2.02369615e-04,  3.95345280e-05,  2.05018672e-04,\n",
       "               4.25518728e-06,  2.00857099e-04, -2.11034273e-04, -1.79879582e-04,\n",
       "               2.02060199e-04, -1.36581093e-05, -1.68482607e-04, -2.87088182e-04,\n",
       "               2.02292946e-05,  1.82150921e-04,  2.15035159e-04, -4.41303813e-06]),\n",
       "       array([ 3.59445519e-04, -2.11629482e-03,  1.73431181e-04, -1.30865643e-04,\n",
       "              -6.67237575e-04,  3.91607651e-05,  2.43013955e-04,  1.17086693e-04,\n",
       "              -5.24952525e-06,  2.31554048e-04,  3.68853063e-04, -2.31661602e-04,\n",
       "               1.34563512e-03, -7.12758428e-05,  1.38176484e-05, -6.43582908e-04,\n",
       "               3.72471829e-04,  4.11547784e-05, -2.38150860e-03,  7.38415414e-04,\n",
       "              -1.21594925e-04,  3.27675869e-04,  1.43059379e-04,  1.85809438e-04,\n",
       "               9.34843497e-05,  3.69600432e-04, -1.93497187e-04, -4.71836555e-05,\n",
       "               2.48494513e-04, -3.06891049e-04,  4.18448167e-04, -1.03997791e-04,\n",
       "               2.80912400e-05, -4.83664700e-04,  1.10912287e-05,  1.44828010e-07,\n",
       "              -1.34708406e-04, -5.60928369e-06,  1.07345331e-06,  1.21447347e-04,\n",
       "               2.95272886e-04, -3.92749365e-05,  3.54739027e-04,  1.40496582e-04,\n",
       "               1.80761884e-04,  2.19353598e-04,  2.55586528e-04, -6.62297590e-06,\n",
       "              -2.66628498e-04, -6.18365466e-05,  2.80234483e-06,  9.70488458e-05,\n",
       "              -3.28278984e-04, -2.48362558e-05,  2.40672761e-04, -7.91737750e-05,\n",
       "               2.69589463e-04,  2.39314245e-04,  1.05406923e-05,  1.64897180e-04,\n",
       "              -3.17443262e-05,  2.33642802e-04, -1.72546771e-04, -1.84720770e-04,\n",
       "               2.00535533e-04, -9.38624058e-06, -1.68421340e-04, -2.87320398e-04,\n",
       "               1.66766428e-05,  1.81196002e-04,  2.15877445e-04, -5.84937912e-06]),\n",
       "       array([ 3.95619003e-04, -2.13197179e-03,  9.86294029e-05, -1.20897405e-04,\n",
       "              -6.61153121e-04,  2.12082252e-05,  2.44320557e-04,  1.15492946e-04,\n",
       "              -2.36379687e-06,  2.16754153e-04,  3.97826220e-04, -1.63066186e-04,\n",
       "               1.34883928e-03, -8.10537336e-05,  7.34563549e-06, -6.28139712e-04,\n",
       "               3.58110554e-04,  3.89485111e-05, -2.40039343e-03,  7.73461293e-04,\n",
       "              -6.96525046e-05,  3.37220569e-04,  1.12675893e-04,  1.30677650e-04,\n",
       "               7.41263614e-05,  4.01183352e-04, -1.37864495e-04, -8.06578471e-05,\n",
       "               2.93068502e-04, -2.16344631e-04,  3.91040367e-04, -1.18566483e-04,\n",
       "               2.46412669e-05, -4.85937065e-04,  8.22123919e-06,  2.70274550e-06,\n",
       "              -1.34934332e-04, -6.99074421e-06,  1.73156255e-06,  1.13782313e-04,\n",
       "               2.91678746e-04, -2.39480634e-05,  3.85063316e-04,  1.19402768e-04,\n",
       "               1.27938883e-04,  2.19158699e-04,  2.56152520e-04, -5.50004490e-06,\n",
       "              -2.66676850e-04, -6.22084679e-05,  2.09546372e-06,  8.85850058e-05,\n",
       "              -3.18078211e-04, -2.21439127e-05,  2.72610481e-04, -1.21609539e-04,\n",
       "               1.89368473e-04,  2.66004602e-04, -1.21773126e-05,  1.16539403e-04,\n",
       "              -5.75202486e-05,  2.59570398e-04, -1.22601390e-04, -1.90273446e-04,\n",
       "               1.98382531e-04, -2.34705607e-06, -1.68127575e-04, -2.87852242e-04,\n",
       "               9.07983111e-06,  1.80433202e-04,  2.16434683e-04, -5.07497445e-06])],\n",
       "      dtype=object)"
      ]
     },
     "execution_count": 11,
     "metadata": {},
     "output_type": "execute_result"
    }
   ],
   "source": [
    "return_energy"
   ]
  },
  {
   "cell_type": "code",
   "execution_count": null,
   "metadata": {},
   "outputs": [],
   "source": []
  }
 ],
 "metadata": {
  "kernelspec": {
   "display_name": "qcbrowser",
   "language": "python",
   "name": "python3"
  },
  "language_info": {
   "codemirror_mode": {
    "name": "ipython",
    "version": 3
   },
   "file_extension": ".py",
   "mimetype": "text/x-python",
   "name": "python",
   "nbconvert_exporter": "python",
   "pygments_lexer": "ipython3",
   "version": "3.10.13"
  }
 },
 "nbformat": 4,
 "nbformat_minor": 2
}
